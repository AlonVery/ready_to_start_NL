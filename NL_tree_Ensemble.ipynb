{
  "cells": [
    {
      "cell_type": "markdown",
      "metadata": {
        "id": "view-in-github",
        "colab_type": "text"
      },
      "source": [
        "<a href=\"https://colab.research.google.com/github/AlonVery/ready_to_start_NL/blob/main/NL_tree_Ensemble.ipynb\" target=\"_parent\"><img src=\"https://colab.research.google.com/assets/colab-badge.svg\" alt=\"Open In Colab\"/></a>"
      ]
    },
    {
      "cell_type": "markdown",
      "metadata": {
        "id": "IrBWI1-46k0r"
      },
      "source": [
        "# Основной вариант модели для проекта"
      ]
    },
    {
      "cell_type": "markdown",
      "source": [
        "## Загрузка, обработка, удаление дубликатов,"
      ],
      "metadata": {
        "id": "yxlKOriTDTY8"
      }
    },
    {
      "cell_type": "code",
      "source": [
        "!pip install scapy\n",
        "!pip install mocket\n",
        "!pip install xgboost"
      ],
      "metadata": {
        "id": "2ZspPkzVExF0"
      },
      "execution_count": null,
      "outputs": []
    },
    {
      "cell_type": "code",
      "execution_count": null,
      "metadata": {
        "id": "qhtazJgCRWPX"
      },
      "outputs": [],
      "source": [
        "import numpy as np\n",
        "import pandas as pd\n",
        "import seaborn as sns\n",
        "import tensorflow as tf\n",
        "from tensorflow import keras\n",
        "import matplotlib.pyplot as plt\n",
        "from sklearn.cluster import KMeans\n",
        "from sklearn.pipeline import Pipeline\n",
        "from keras.utils import to_categorical\n",
        "from tensorflow.keras import Sequential\n",
        "from tensorflow.keras.layers import Dense\n",
        "from tensorflow.keras.optimizers import Adam\n",
        "from sklearn.ensemble import IsolationForest\n",
        "from sklearn.compose import ColumnTransformer\n",
        "from tensorflow.keras.metrics import Accuracy\n",
        "from sklearn.model_selection import train_test_split\n",
        "from tensorflow.keras.losses import BinaryCrossentropy\n",
        "from tensorflow.keras.callbacks import LearningRateScheduler\n",
        "from sklearn.preprocessing import OneHotEncoder, FunctionTransformer, LabelEncoder\n",
        "from sklearn.metrics import confusion_matrix\n",
        "from sklearn.metrics import ConfusionMatrixDisplay\n",
        "from scapy.all import *\n"
      ]
    },
    {
      "cell_type": "code",
      "execution_count": null,
      "metadata": {
        "id": "J5WD3-BwtVPP"
      },
      "outputs": [],
      "source": [
        "# вытаскиваем тренировачный датасет и разбиваем каждую колонку на нужный нам параметр всего 43\n",
        "#выделяем каждый датасет отдельно на тест и на треин\n",
        "#df.head() #df.info() #df['protocol_type'].unique()\n",
        "#data = df.drop('attack', axis=1)\n",
        "#df.head()\n",
        "\n",
        "columns = (['duration'\n",
        ",'protocol_type'\n",
        ",'service'\n",
        ",'flag'\n",
        ",'src_bytes'\n",
        ",'dst_bytes'\n",
        ",'land'\n",
        ",'wrong_fragment'\n",
        ",'urgent'\n",
        ",'hot'\n",
        ",'num_failed_logins'\n",
        ",'logged_in'\n",
        ",'num_compromised'\n",
        ",'root_shell'\n",
        ",'su_attempted'\n",
        ",'num_root'\n",
        ",'num_file_creations'\n",
        ",'num_shells'\n",
        ",'num_access_files'\n",
        ",'num_outbound_cmds'\n",
        ",'is_host_login'\n",
        ",'is_guest_login'\n",
        ",'count'\n",
        ",'srv_count'\n",
        ",'serror_rate'\n",
        ",'srv_serror_rate'\n",
        ",'rerror_rate'\n",
        ",'srv_rerror_rate'\n",
        ",'same_srv_rate'\n",
        ",'diff_srv_rate'\n",
        ",'srv_diff_host_rate'\n",
        ",'dst_host_count'\n",
        ",'dst_host_srv_count'\n",
        ",'dst_host_same_srv_rate'\n",
        ",'dst_host_diff_srv_rate'\n",
        ",'dst_host_same_src_port_rate'\n",
        ",'dst_host_srv_diff_host_rate'\n",
        ",'dst_host_serror_rate'\n",
        ",'dst_host_srv_serror_rate'\n",
        ",'dst_host_rerror_rate'\n",
        ",'dst_host_srv_rerror_rate'\n",
        ",'attack'\n",
        ",'level'])\n",
        "\n",
        "df_train=pd.read_csv('https://raw.githubusercontent.com/stepka123/basic-NL-SA/stepka123-KDD_Dataset/KDDTrain%2B.txt',header=None,names=columns)\n",
        "df_test=pd.read_csv('https://raw.githubusercontent.com/stepka123/basic-NL-SA/stepka123-KDD_Dataset/KDDTest%2B.txt',header=None,names=columns)\n",
        "df = pd.concat([df_train, df_test])\n",
        "df_train.head()"
      ]
    },
    {
      "cell_type": "code",
      "execution_count": null,
      "metadata": {
        "id": "X0TlSMCSasUu"
      },
      "outputs": [],
      "source": [
        "#чистим будущие данные от NaN/ Null values\n",
        "\n",
        "def clean_dataset(df_test):\n",
        "    assert isinstance(df_test, pd.DataFrame), \"df_test needs to be a pd.DataFrame\"\n",
        "    df_test.dropna(inplace=True)\n",
        "    indices_to_keep = ~df_test.isin([np.nan, np.inf, -np.inf]).any(1)\n",
        "    return data_test[indices_to_keep]\n",
        "\n",
        "def clean_dataset(df_train):\n",
        "    assert isinstance(df_train, pd.DataFrame), \"df_train needs to be a pd.DataFrame\"\n",
        "    df_train.dropna(inplace=True)\n",
        "    indices_to_keep = ~df_train.isin([np.nan, np.inf, -np.inf]).any(1)\n",
        "    return df_train[indices_to_keep]\n"
      ]
    },
    {
      "cell_type": "code",
      "execution_count": null,
      "metadata": {
        "id": "J0SdmkfhzclB",
        "colab": {
          "base_uri": "https://localhost:8080/"
        },
        "outputId": "77d45131-e791-469e-e777-fd4b8c92e678"
      },
      "outputs": [
        {
          "output_type": "stream",
          "name": "stdout",
          "text": [
            "Дубликаты:  0\n"
          ]
        }
      ],
      "source": [
        "#Дропаем дубликаты\n",
        "df_dpl = df.duplicated().sum()\n",
        "print(\"Дубликаты: \",df_dpl)\n",
        "df.drop_duplicates(inplace=True)"
      ]
    },
    {
      "cell_type": "code",
      "source": [
        "# changing attack labels to their respective attack class\n",
        "def change_label(df):\n",
        "    df.attack.replace(['apache2','back','land','neptune','mailbomb','pod','processtable','smurf','teardrop','udpstorm','worm'],'Dos',inplace=True)\n",
        "    df.attack.replace(['ftp_write','guess_passwd','httptunnel','imap','multihop','named','phf','sendmail','snmpgetattack','snmpguess','spy','warezclient','warezmaster','xlock','xsnoop'],'R2L',inplace=True)\n",
        "    df.attack.replace(['ipsweep','mscan','nmap','portsweep','saint','satan'],'Probe',inplace=True)\n",
        "    df.attack.replace(['buffer_overflow','loadmodule','perl','ps','rootkit','sqlattack','xterm'],'U2R',inplace=True)\n",
        "\n",
        "le1 = LabelEncoder()\n",
        "le2 = LabelEncoder()\n",
        "le3 = LabelEncoder()\n",
        "le4 = LabelEncoder()\n",
        "\n",
        "le_protocol_type = le1.fit(df['protocol_type'])\n",
        "le_service = le2.fit(df['service'])\n",
        "le_flag = le3.fit(df['flag'])\n",
        "\n",
        "le_attack = le4.fit(df['attack'])\n",
        "df['protocol_type'] = le_protocol_type.transform(df['protocol_type'])\n",
        "df['service'] = le_service.transform(df['service'])\n",
        "df['flag'] = le_flag.transform(df['flag'])\n",
        "\n",
        "df['attack'] = le_attack.transform(df['attack'])"
      ],
      "metadata": {
        "id": "La6pDDMHEBoS"
      },
      "execution_count": null,
      "outputs": []
    },
    {
      "cell_type": "markdown",
      "metadata": {
        "id": "knULBEE1XGh-"
      },
      "source": [
        "#Здесь же код который я беру на тест с kagele и на данный момент является основной моделью\n",
        "Автоенкодер который будет оринтироваться по слассу атак, а именно разметит сам зависимости, разобьет эти зависимости на классы и будт обучатьс яуже относительно них.\n"
      ]
    },
    {
      "cell_type": "markdown",
      "source": [
        "### Разметка обучающего и тестового датасета"
      ],
      "metadata": {
        "id": "m6jbIiKkE0oh"
      }
    },
    {
      "cell_type": "code",
      "execution_count": null,
      "metadata": {
        "id": "K6977bgdUSyU",
        "colab": {
          "base_uri": "https://localhost:8080/"
        },
        "outputId": "ac76a0bb-0573-4886-b3da-86e70b8dc5c6"
      },
      "outputs": [
        {
          "output_type": "stream",
          "name": "stdout",
          "text": [
            "X_train has shape: (147907, 42) \n",
            "y_train has shape: (147907, 1)\n"
          ]
        }
      ],
      "source": [
        "from sklearn.model_selection import train_test_split\n",
        "y_train= df[['attack']]\n",
        "X_train= df.drop(labels=['attack'], axis=1)\n",
        "\n",
        "print('X_train has shape:',X_train.shape,'\\ny_train has shape:',y_train.shape)"
      ]
    },
    {
      "cell_type": "code",
      "execution_count": null,
      "metadata": {
        "id": "mEJBCcfgUbXN"
      },
      "outputs": [],
      "source": [
        "# splitting the dataset 80% for training and 20% testing\n",
        "X_train, X_test, y_train, y_test = train_test_split(X_train,y_train, test_size=0.20, random_state=42)"
      ]
    },
    {
      "cell_type": "code",
      "execution_count": null,
      "metadata": {
        "id": "YZpZ3ChGUb2A"
      },
      "outputs": [],
      "source": [
        "from sklearn.ensemble import RandomForestClassifier\n",
        "from sklearn.tree import DecisionTreeClassifier\n",
        "from catboost import CatBoostClassifier\n",
        "from sklearn.naive_bayes import GaussianNB\n",
        "from xgboost import XGBClassifier\n",
        "\n",
        "from sklearn.metrics import confusion_matrix, ConfusionMatrixDisplay, classification_report, accuracy_score"
      ]
    },
    {
      "cell_type": "code",
      "execution_count": null,
      "metadata": {
        "id": "8-LBNy_BUdfR"
      },
      "outputs": [],
      "source": [
        "target_names = ['normal', 'Dos', 'Probe', 'R2L', 'U2R']"
      ]
    },
    {
      "cell_type": "markdown",
      "source": [
        "### Байсет с гауссовскими признаками"
      ],
      "metadata": {
        "id": "d3iBGt8AEPe6"
      }
    },
    {
      "cell_type": "code",
      "execution_count": null,
      "metadata": {
        "id": "z3roYxzfUudC",
        "colab": {
          "base_uri": "https://localhost:8080/"
        },
        "outputId": "80bf517b-1d8b-4151-fb64-1cbe133d3efb"
      },
      "outputs": [
        {
          "output_type": "stream",
          "name": "stderr",
          "text": [
            "/usr/local/lib/python3.10/dist-packages/sklearn/utils/validation.py:1143: DataConversionWarning: A column-vector y was passed when a 1d array was expected. Please change the shape of y to (n_samples, ), for example using ravel().\n",
            "  y = column_or_1d(y, warn=True)\n"
          ]
        }
      ],
      "source": [
        "# Создание экземпляра классификатора наивного Байеса с гауссовскими признаками\n",
        "gnb = GaussianNB()\n",
        "\n",
        "# Обучение классификатора на обучающих данных\n",
        "gnb = gnb.fit(X_train, y_train)"
      ]
    },
    {
      "cell_type": "code",
      "execution_count": null,
      "metadata": {
        "id": "k-Elx9dfUwVM",
        "colab": {
          "base_uri": "https://localhost:8080/"
        },
        "outputId": "89fbb3cc-53dc-4572-c7c1-86f619bebc70"
      },
      "outputs": [
        {
          "output_type": "execute_result",
          "data": {
            "text/plain": [
              "0.3658305726455277"
            ]
          },
          "metadata": {},
          "execution_count": 73
        }
      ],
      "source": [
        "gnb_pred = gnb.predict(X_test)  # Предсказание меток классов на тестовом наборе\n",
        "gnb_pred\n",
        "gnb_acc = accuracy_score(y_test, gnb_pred)  # Вычисление точности предсказаний\n",
        "gnb_acc"
      ]
    },
    {
      "cell_type": "code",
      "source": [
        "gnb_cm = confusion_matrix(y_test, gnb_pred)"
      ],
      "metadata": {
        "id": "PwfluOsS75U6"
      },
      "execution_count": null,
      "outputs": []
    },
    {
      "cell_type": "markdown",
      "source": [
        "### Байсет Decision Tree"
      ],
      "metadata": {
        "id": "IofDIwzMEXJB"
      }
    },
    {
      "cell_type": "code",
      "execution_count": null,
      "metadata": {
        "id": "ikdmW41KU9VV"
      },
      "outputs": [],
      "source": [
        "#Decision Tree\n",
        "dt = DecisionTreeClassifier()  # Создание модели дерева принятия решений\n",
        "dt = dt.fit(X_train, y_train)  # Обучение модели на обучающем наборе данных"
      ]
    },
    {
      "cell_type": "code",
      "execution_count": null,
      "metadata": {
        "id": "OPHaQRPzV6gF",
        "colab": {
          "base_uri": "https://localhost:8080/"
        },
        "outputId": "b86c4cb4-8b34-4109-f410-f53098949616"
      },
      "outputs": [
        {
          "output_type": "execute_result",
          "data": {
            "text/plain": [
              "array([16, 27, 16, ..., 15, 14, 16])"
            ]
          },
          "metadata": {},
          "execution_count": 75
        }
      ],
      "source": [
        "dt_pred = dt.predict(X_test)\n",
        "dt_pred"
      ]
    },
    {
      "cell_type": "code",
      "execution_count": null,
      "metadata": {
        "id": "y6yULAV6V6d0",
        "colab": {
          "base_uri": "https://localhost:8080/"
        },
        "outputId": "203aca69-0efa-434f-99af-ddb2d457ae1d"
      },
      "outputs": [
        {
          "output_type": "execute_result",
          "data": {
            "text/plain": [
              "0.9954364140355622"
            ]
          },
          "metadata": {},
          "execution_count": 76
        }
      ],
      "source": [
        "dt_acc = accuracy_score(y_test, dt_pred)\n",
        "dt_acc"
      ]
    },
    {
      "cell_type": "code",
      "source": [
        "dt_cm = confusion_matrix(y_test, dt_pred)"
      ],
      "metadata": {
        "id": "xfG3J3b08F8f"
      },
      "execution_count": null,
      "outputs": []
    },
    {
      "cell_type": "markdown",
      "source": [
        "### Байсет Random Forest"
      ],
      "metadata": {
        "id": "7YXQAiiKEeYu"
      }
    },
    {
      "cell_type": "code",
      "execution_count": null,
      "metadata": {
        "id": "NtO3_gzkV59k",
        "colab": {
          "base_uri": "https://localhost:8080/",
          "height": 176
        },
        "outputId": "8b335147-b440-4cfc-d415-709102a87c6b"
      },
      "outputs": [
        {
          "output_type": "error",
          "ename": "NameError",
          "evalue": "name 'RandomForestClassifier' is not defined",
          "traceback": [
            "\u001b[0;31m---------------------------------------------------------------------------\u001b[0m",
            "\u001b[0;31mNameError\u001b[0m                                 Traceback (most recent call last)",
            "\u001b[0;32m<ipython-input-1-b7835d7178be>\u001b[0m in \u001b[0;36m<cell line: 2>\u001b[0;34m()\u001b[0m\n\u001b[1;32m      1\u001b[0m \u001b[0;31m#Random Forest\u001b[0m\u001b[0;34m\u001b[0m\u001b[0;34m\u001b[0m\u001b[0m\n\u001b[0;32m----> 2\u001b[0;31m \u001b[0mrf\u001b[0m \u001b[0;34m=\u001b[0m \u001b[0mRandomForestClassifier\u001b[0m\u001b[0;34m(\u001b[0m\u001b[0;34m)\u001b[0m\u001b[0;34m\u001b[0m\u001b[0;34m\u001b[0m\u001b[0m\n\u001b[0m\u001b[1;32m      3\u001b[0m \u001b[0mrf\u001b[0m \u001b[0;34m=\u001b[0m \u001b[0mrf\u001b[0m\u001b[0;34m.\u001b[0m\u001b[0mfit\u001b[0m\u001b[0;34m(\u001b[0m\u001b[0mX_train\u001b[0m\u001b[0;34m,\u001b[0m \u001b[0my_train\u001b[0m\u001b[0;34m)\u001b[0m\u001b[0;34m\u001b[0m\u001b[0;34m\u001b[0m\u001b[0m\n",
            "\u001b[0;31mNameError\u001b[0m: name 'RandomForestClassifier' is not defined"
          ]
        }
      ],
      "source": [
        "#Random Forest\n",
        "rf = RandomForestClassifier()\n",
        "rf = rf.fit(X_train, y_train)"
      ]
    },
    {
      "cell_type": "code",
      "execution_count": null,
      "metadata": {
        "id": "riI6X0bsWcUq"
      },
      "outputs": [],
      "source": [
        "rf_pred = rf.predict(X_test)\n",
        "rf_pred\n"
      ]
    },
    {
      "cell_type": "code",
      "execution_count": null,
      "metadata": {
        "id": "_hcC30AYWcR4"
      },
      "outputs": [],
      "source": [
        "rf_acc = accuracy_score(y_test, rf_pred)\n",
        "rf_acc"
      ]
    },
    {
      "cell_type": "code",
      "source": [
        "rf_cm = confusion_matrix(y_test, rf_pred)"
      ],
      "metadata": {
        "id": "az2Gk6za5OEv"
      },
      "execution_count": null,
      "outputs": []
    },
    {
      "cell_type": "markdown",
      "source": [
        "### Байсет CatBoost"
      ],
      "metadata": {
        "id": "uq4k9U1MEiQG"
      }
    },
    {
      "cell_type": "code",
      "execution_count": null,
      "metadata": {
        "id": "tEy7eStyWcPn"
      },
      "outputs": [],
      "source": [
        "#Катбуст\n",
        "cb = CatBoostClassifier()\n",
        "cb = cb.fit(X_train, y_train)"
      ]
    },
    {
      "cell_type": "code",
      "source": [
        "cb_pred = cb.predict(X_test)\n",
        "cb_pred"
      ],
      "metadata": {
        "colab": {
          "base_uri": "https://localhost:8080/"
        },
        "id": "4s1iT3492ohG",
        "outputId": "671e7674-54fe-417d-faef-c54faaa5c661"
      },
      "execution_count": null,
      "outputs": [
        {
          "output_type": "execute_result",
          "data": {
            "text/plain": [
              "array([[16],\n",
              "       [27],\n",
              "       [16],\n",
              "       ...,\n",
              "       [15],\n",
              "       [14],\n",
              "       [16]])"
            ]
          },
          "metadata": {},
          "execution_count": 116
        }
      ]
    },
    {
      "cell_type": "code",
      "source": [
        "cb_acc = accuracy_score(y_test, cb_pred)\n",
        "cb_acc"
      ],
      "metadata": {
        "colab": {
          "base_uri": "https://localhost:8080/"
        },
        "id": "pT_2uVk52oac",
        "outputId": "bd452235-01e5-4c8c-842a-17907848d920"
      },
      "execution_count": null,
      "outputs": [
        {
          "output_type": "execute_result",
          "data": {
            "text/plain": [
              "0.9972956527618146"
            ]
          },
          "metadata": {},
          "execution_count": 117
        }
      ]
    },
    {
      "cell_type": "code",
      "source": [
        "cb_cm = confusion_matrix(y_test, cb_pred)"
      ],
      "metadata": {
        "id": "a4XZWuYe5IcA"
      },
      "execution_count": null,
      "outputs": []
    },
    {
      "cell_type": "markdown",
      "source": [
        "### Сравнительные таблицы\n"
      ],
      "metadata": {
        "id": "sXi4B726Emq8"
      }
    },
    {
      "cell_type": "code",
      "source": [
        "import seaborn as sns\n",
        "models = ['Naive Bayes', 'Decision Tree', 'Random Forest', 'Catboost']\n",
        "accuracies = [gnb_acc, dt_acc, rf_acc, cb_acc]\n",
        "\n",
        "plt.figure(figsize=(8, 6))\n",
        "plt.bar(models, accuracies, color=['skyblue', 'lightgreen', 'gold', 'coral', 'violet'])\n",
        "plt.xlabel('Model Name')\n",
        "plt.ylabel('Accuracy')\n",
        "plt.title('Accuracy Comparison of Machine Learning Models')\n",
        "plt.xticks(rotation=45, ha='right')\n",
        "\n",
        "\n",
        "# Display the bar chart\n",
        "plt.tight_layout()\n",
        "plt.show()"
      ],
      "metadata": {
        "colab": {
          "base_uri": "https://localhost:8080/",
          "height": 607
        },
        "id": "_3auTqfToqVv",
        "outputId": "52c960e3-2608-400b-d75d-b585abef31f4"
      },
      "execution_count": null,
      "outputs": [
        {
          "output_type": "display_data",
          "data": {
            "text/plain": [
              "<Figure size 800x600 with 1 Axes>"
            ],
            "image/png": "[encoded data removed]"
          },
          "metadata": {}
        }
      ]
    },
    {
      "cell_type": "code",
      "source": [
        "models = ['Naive Bayes', 'Decision Tree', 'Random Forest', 'Catboost']\n",
        "accuracies = [gnb_acc, dt_acc, rf_acc, cb_acc]\n",
        "\n",
        "plt.figure(figsize=(8, 6))\n",
        "plt.bar(models, accuracies, color=['skyblue', 'lightgreen', 'gold', 'coral', 'violet'])\n",
        "plt.xlabel('Model Name')\n",
        "plt.ylabel('Accuracy')\n",
        "plt.title('Accuracy Comparison of Machine Learning Models')\n",
        "plt.xticks(rotation=45, ha='right')\n",
        "plt.grid(axis='y', linestyle='--', alpha=0.7)\n",
        "\n",
        "# Set y-axis limits to focus on the narrow range\n",
        "plt.ylim(0.997, 1.00)\n",
        "\n",
        "# Display the bar chart\n",
        "plt.tight_layout()\n",
        "plt.show()"
      ],
      "metadata": {
        "colab": {
          "base_uri": "https://localhost:8080/",
          "height": 607
        },
        "id": "PWkF5UrX68Z4",
        "outputId": "e7ee5b71-7dda-4b13-826c-8db73aabd488"
      },
      "execution_count": null,
      "outputs": [
        {
          "output_type": "display_data",
          "data": {
            "text/plain": [
              "<Figure size 800x600 with 1 Axes>"
            ],
            "image/png": "[encoded data removed]"
          },
          "metadata": {}
        }
      ]
    },
    {
      "cell_type": "code",
      "source": [
        "#оценка потерь и лузов\n",
        "def false_alarm_rate(cm):\n",
        "    true_normal = cm[0,0]\n",
        "    false_attack = cm[0,1] + cm[0,2] + cm[0,3] + cm[0,4]\n",
        "\n",
        "    return false_attack/(true_normal + false_attack)\n"
      ],
      "metadata": {
        "id": "E_2Gj3sApDLB"
      },
      "execution_count": null,
      "outputs": []
    },
    {
      "cell_type": "code",
      "source": [
        "gnb_far = false_alarm_rate(gnb_cm)\n",
        "dt_far = false_alarm_rate(dt_cm)\n",
        "rf_far = false_alarm_rate(rf_cm)\n",
        "cb_far = false_alarm_rate(cb_cm)"
      ],
      "metadata": {
        "id": "-obKDA2k7rvN"
      },
      "execution_count": null,
      "outputs": []
    },
    {
      "cell_type": "code",
      "source": [
        "models = ['Naive Bayes', 'Decision Tree', 'Random Forest', 'Catboost']\n",
        "accuracies = [gnb_far, dt_far, rf_far, cb_far]\n",
        "\n",
        "plt.figure(figsize=(8, 6))\n",
        "plt.bar(models, accuracies, color=['skyblue', 'lightgreen', 'gold', 'coral', 'violet'])\n",
        "plt.xlabel('Model Name')\n",
        "plt.ylabel('False Alarm Rate')\n",
        "plt.title('False Alarm Rate Comparison of Machine Learning Models')\n",
        "plt.xticks(rotation=45, ha='right')\n",
        "\n",
        "\n",
        "# Display the bar chart\n",
        "plt.tight_layout()\n",
        "plt.show()"
      ],
      "metadata": {
        "colab": {
          "base_uri": "https://localhost:8080/",
          "height": 607
        },
        "id": "9IfQHLmk7ipF",
        "outputId": "8dc9d7f9-60ee-47f5-b0f4-c23834a5b2b9"
      },
      "execution_count": null,
      "outputs": [
        {
          "output_type": "display_data",
          "data": {
            "text/plain": [
              "<Figure size 800x600 with 1 Axes>"
            ],
            "image/png": "[encoded data removed]"
          },
          "metadata": {}
        }
      ]
    },
    {
      "cell_type": "code",
      "source": [
        "models = ['Naive Bayes', 'Decision Tree', 'Random Forest', 'Catboost']\n",
        "accuracies = [gnb_far, dt_far, rf_far, cb_far]\n",
        "\n",
        "plt.figure(figsize=(8, 6))\n",
        "plt.bar(models, accuracies, color=['skyblue', 'lightgreen', 'gold', 'coral', 'violet'])\n",
        "plt.xlabel('Model Name')\n",
        "plt.ylabel('False Alarm Rate')\n",
        "plt.title('False Alarm Rate of Machine Learning Models')\n",
        "plt.xticks(rotation=45, ha='right')\n",
        "plt.grid(axis='y', linestyle='--', alpha=0.7)\n",
        "\n",
        "# Set y-axis limits to focus on the narrow range\n",
        "plt.ylim(0, 0.001)\n",
        "\n",
        "# Display the bar chart\n",
        "plt.tight_layout()\n",
        "plt.show()"
      ],
      "metadata": {
        "colab": {
          "base_uri": "https://localhost:8080/",
          "height": 607
        },
        "id": "nXn3FYuv8oAo",
        "outputId": "802817da-e073-4e89-80db-f6f96522849b"
      },
      "execution_count": null,
      "outputs": [
        {
          "output_type": "display_data",
          "data": {
            "text/plain": [
              "<Figure size 800x600 with 1 Axes>"
            ],
            "image/png": "[encoded data removed]"
          },
          "metadata": {}
        }
      ]
    },
    {
      "cell_type": "markdown",
      "source": [
        "### Сохранение и попытка практического применения в поиске аномалий"
      ],
      "metadata": {
        "id": "fmLBMhDJE-Wr"
      }
    },
    {
      "cell_type": "code",
      "source": [
        "#Save Best Model\n",
        "import pickle\n",
        "from joblib import dump, load\n",
        "import socket\n",
        "from scapy.all import sniff\n",
        "from unittest.mock import patch\n",
        "import random"
      ],
      "metadata": {
        "id": "OUEHewMVrDRt"
      },
      "execution_count": null,
      "outputs": []
    },
    {
      "cell_type": "code",
      "source": [
        "filename = 'best_model.sav'\n",
        "pickle.dump(xg, open(filename, 'wb'))"
      ],
      "metadata": {
        "id": "8KAhTHj3rDPN"
      },
      "execution_count": null,
      "outputs": []
    },
    {
      "cell_type": "code",
      "source": [
        "df_test = pd.read_csv('https://raw.githubusercontent.com/stepka123/basic-NL-SA/stepka123-KDD_Dataset/KDDTest-21.txt')\n",
        "\n",
        "columns = (['duration','protocol_type','service','flag','src_bytes','dst_bytes','land','wrong_fragment','urgent','hot'\n",
        ",'num_failed_logins','logged_in','num_compromised','root_shell','su_attempted','num_root','num_file_creations'\n",
        ",'num_shells','num_access_files','num_outbound_cmds','is_host_login','is_guest_login','count','srv_count','serror_rate'\n",
        ",'srv_serror_rate','rerror_rate','srv_rerror_rate','same_srv_rate','diff_srv_rate','srv_diff_host_rate','dst_host_count','dst_host_srv_count'\n",
        ",'dst_host_same_srv_rate','dst_host_diff_srv_rate','dst_host_same_src_port_rate','dst_host_srv_diff_host_rate','dst_host_serror_rate'\n",
        ",'dst_host_srv_serror_rate','dst_host_rerror_rate','dst_host_srv_rerror_rate','attack','level'])\n",
        "\n",
        "df_test.columns = columns\n",
        "df_test"
      ],
      "metadata": {
        "colab": {
          "base_uri": "https://localhost:8080/",
          "height": 444
        },
        "id": "ID_e4uLgrDKt",
        "outputId": "90a21888-2ff4-437b-abd7-89c3bd5e1d7c"
      },
      "execution_count": null,
      "outputs": [
        {
          "output_type": "execute_result",
          "data": {
            "text/plain": [
              "       duration protocol_type   service  flag  src_bytes  dst_bytes  land  \\\n",
              "0             0           udp   private    SF         44          0     0   \n",
              "1             0           tcp    telnet    S3          0         44     0   \n",
              "2             0           udp   private    SF         53         55     0   \n",
              "3             0           tcp   private    SH          0          0     0   \n",
              "4             0           tcp      http    SF      54540       8314     0   \n",
              "...         ...           ...       ...   ...        ...        ...   ...   \n",
              "11844         0           udp  domain_u    SF         43         43     0   \n",
              "11845         0           tcp      http    SF        336        285     0   \n",
              "11846         1           tcp    telnet  RSTO          0         15     0   \n",
              "11847         0           tcp    sunrpc   REJ          0          0     0   \n",
              "11848         0           udp   private    SF         41          0     0   \n",
              "\n",
              "       wrong_fragment  urgent  hot  ...  dst_host_same_srv_rate  \\\n",
              "0                   0       0    0  ...                    1.00   \n",
              "1                   0       0    0  ...                    0.31   \n",
              "2                   0       0    0  ...                    1.00   \n",
              "3                   0       0    0  ...                    0.06   \n",
              "4                   0       0    2  ...                    0.90   \n",
              "...               ...     ...  ...  ...                     ...   \n",
              "11844               0       0    0  ...                    1.00   \n",
              "11845               0       0    0  ...                    0.92   \n",
              "11846               0       0    0  ...                    0.37   \n",
              "11847               0       0    0  ...                    0.19   \n",
              "11848               0       0    0  ...                    1.00   \n",
              "\n",
              "       dst_host_diff_srv_rate  dst_host_same_src_port_rate  \\\n",
              "0                        0.01                         0.01   \n",
              "1                        0.61                         0.00   \n",
              "2                        0.00                         0.87   \n",
              "3                        1.00                         1.00   \n",
              "4                        0.01                         0.00   \n",
              "...                       ...                          ...   \n",
              "11844                    0.00                         0.01   \n",
              "11845                    0.02                         0.00   \n",
              "11846                    0.03                         0.01   \n",
              "11847                    0.03                         0.01   \n",
              "11848                    0.00                         0.00   \n",
              "\n",
              "       dst_host_srv_diff_host_rate  dst_host_serror_rate  \\\n",
              "0                             0.00                  0.00   \n",
              "1                             0.00                  0.21   \n",
              "2                             0.00                  0.00   \n",
              "3                             0.00                  1.00   \n",
              "4                             0.00                  0.00   \n",
              "...                            ...                   ...   \n",
              "11844                         0.00                  0.00   \n",
              "11845                         0.00                  0.00   \n",
              "11846                         0.02                  0.05   \n",
              "11847                         0.04                  0.00   \n",
              "11848                         0.00                  0.00   \n",
              "\n",
              "       dst_host_srv_serror_rate  dst_host_rerror_rate  \\\n",
              "0                          0.00                  0.00   \n",
              "1                          0.68                  0.60   \n",
              "2                          0.00                  0.00   \n",
              "3                          1.00                  0.00   \n",
              "4                          0.00                  0.01   \n",
              "...                         ...                   ...   \n",
              "11844                      0.00                  0.00   \n",
              "11845                      0.00                  0.05   \n",
              "11846                      0.08                  0.85   \n",
              "11847                      0.00                  0.88   \n",
              "11848                      0.00                  0.00   \n",
              "\n",
              "       dst_host_srv_rerror_rate        attack  level  \n",
              "0                          0.00     snmpguess     12  \n",
              "1                          0.00  processtable     18  \n",
              "2                          0.00        normal     17  \n",
              "3                          0.00          nmap     17  \n",
              "4                          0.00          back     10  \n",
              "...                         ...           ...    ...  \n",
              "11844                      0.00        normal     18  \n",
              "11845                      0.00        normal     18  \n",
              "11846                      0.58         mscan     13  \n",
              "11847                      1.00         mscan     15  \n",
              "11848                      0.00     snmpguess     17  \n",
              "\n",
              "[11849 rows x 43 columns]"
            ],
            "text/html": [
              "\n",
              "  <div id=\"df-a945b84b-3675-45ba-b909-15b1706373d2\" class=\"colab-df-container\">\n",
              "    <div>\n",
              "<style scoped>\n",
              "    .dataframe tbody tr th:only-of-type {\n",
              "        vertical-align: middle;\n",
              "    }\n",
              "\n",
              "    .dataframe tbody tr th {\n",
              "        vertical-align: top;\n",
              "    }\n",
              "\n",
              "    .dataframe thead th {\n",
              "        text-align: right;\n",
              "    }\n",
              "</style>\n",
              "<table border=\"1\" class=\"dataframe\">\n",
              "  <thead>\n",
              "    <tr style=\"text-align: right;\">\n",
              "      <th></th>\n",
              "      <th>duration</th>\n",
              "      <th>protocol_type</th>\n",
              "      <th>service</th>\n",
              "      <th>flag</th>\n",
              "      <th>src_bytes</th>\n",
              "      <th>dst_bytes</th>\n",
              "      <th>land</th>\n",
              "      <th>wrong_fragment</th>\n",
              "      <th>urgent</th>\n",
              "      <th>hot</th>\n",
              "      <th>...</th>\n",
              "      <th>dst_host_same_srv_rate</th>\n",
              "      <th>dst_host_diff_srv_rate</th>\n",
              "      <th>dst_host_same_src_port_rate</th>\n",
              "      <th>dst_host_srv_diff_host_rate</th>\n",
              "      <th>dst_host_serror_rate</th>\n",
              "      <th>dst_host_srv_serror_rate</th>\n",
              "      <th>dst_host_rerror_rate</th>\n",
              "      <th>dst_host_srv_rerror_rate</th>\n",
              "      <th>attack</th>\n",
              "      <th>level</th>\n",
              "    </tr>\n",
              "  </thead>\n",
              "  <tbody>\n",
              "    <tr>\n",
              "      <th>0</th>\n",
              "      <td>0</td>\n",
              "      <td>udp</td>\n",
              "      <td>private</td>\n",
              "      <td>SF</td>\n",
              "      <td>44</td>\n",
              "      <td>0</td>\n",
              "      <td>0</td>\n",
              "      <td>0</td>\n",
              "      <td>0</td>\n",
              "      <td>0</td>\n",
              "      <td>...</td>\n",
              "      <td>1.00</td>\n",
              "      <td>0.01</td>\n",
              "      <td>0.01</td>\n",
              "      <td>0.00</td>\n",
              "      <td>0.00</td>\n",
              "      <td>0.00</td>\n",
              "      <td>0.00</td>\n",
              "      <td>0.00</td>\n",
              "      <td>snmpguess</td>\n",
              "      <td>12</td>\n",
              "    </tr>\n",
              "    <tr>\n",
              "      <th>1</th>\n",
              "      <td>0</td>\n",
              "      <td>tcp</td>\n",
              "      <td>telnet</td>\n",
              "      <td>S3</td>\n",
              "      <td>0</td>\n",
              "      <td>44</td>\n",
              "      <td>0</td>\n",
              "      <td>0</td>\n",
              "      <td>0</td>\n",
              "      <td>0</td>\n",
              "      <td>...</td>\n",
              "      <td>0.31</td>\n",
              "      <td>0.61</td>\n",
              "      <td>0.00</td>\n",
              "      <td>0.00</td>\n",
              "      <td>0.21</td>\n",
              "      <td>0.68</td>\n",
              "      <td>0.60</td>\n",
              "      <td>0.00</td>\n",
              "      <td>processtable</td>\n",
              "      <td>18</td>\n",
              "    </tr>\n",
              "    <tr>\n",
              "      <th>2</th>\n",
              "      <td>0</td>\n",
              "      <td>udp</td>\n",
              "      <td>private</td>\n",
              "      <td>SF</td>\n",
              "      <td>53</td>\n",
              "      <td>55</td>\n",
              "      <td>0</td>\n",
              "      <td>0</td>\n",
              "      <td>0</td>\n",
              "      <td>0</td>\n",
              "      <td>...</td>\n",
              "      <td>1.00</td>\n",
              "      <td>0.00</td>\n",
              "      <td>0.87</td>\n",
              "      <td>0.00</td>\n",
              "      <td>0.00</td>\n",
              "      <td>0.00</td>\n",
              "      <td>0.00</td>\n",
              "      <td>0.00</td>\n",
              "      <td>normal</td>\n",
              "      <td>17</td>\n",
              "    </tr>\n",
              "    <tr>\n",
              "      <th>3</th>\n",
              "      <td>0</td>\n",
              "      <td>tcp</td>\n",
              "      <td>private</td>\n",
              "      <td>SH</td>\n",
              "      <td>0</td>\n",
              "      <td>0</td>\n",
              "      <td>0</td>\n",
              "      <td>0</td>\n",
              "      <td>0</td>\n",
              "      <td>0</td>\n",
              "      <td>...</td>\n",
              "      <td>0.06</td>\n",
              "      <td>1.00</td>\n",
              "      <td>1.00</td>\n",
              "      <td>0.00</td>\n",
              "      <td>1.00</td>\n",
              "      <td>1.00</td>\n",
              "      <td>0.00</td>\n",
              "      <td>0.00</td>\n",
              "      <td>nmap</td>\n",
              "      <td>17</td>\n",
              "    </tr>\n",
              "    <tr>\n",
              "      <th>4</th>\n",
              "      <td>0</td>\n",
              "      <td>tcp</td>\n",
              "      <td>http</td>\n",
              "      <td>SF</td>\n",
              "      <td>54540</td>\n",
              "      <td>8314</td>\n",
              "      <td>0</td>\n",
              "      <td>0</td>\n",
              "      <td>0</td>\n",
              "      <td>2</td>\n",
              "      <td>...</td>\n",
              "      <td>0.90</td>\n",
              "      <td>0.01</td>\n",
              "      <td>0.00</td>\n",
              "      <td>0.00</td>\n",
              "      <td>0.00</td>\n",
              "      <td>0.00</td>\n",
              "      <td>0.01</td>\n",
              "      <td>0.00</td>\n",
              "      <td>back</td>\n",
              "      <td>10</td>\n",
              "    </tr>\n",
              "    <tr>\n",
              "      <th>...</th>\n",
              "      <td>...</td>\n",
              "      <td>...</td>\n",
              "      <td>...</td>\n",
              "      <td>...</td>\n",
              "      <td>...</td>\n",
              "      <td>...</td>\n",
              "      <td>...</td>\n",
              "      <td>...</td>\n",
              "      <td>...</td>\n",
              "      <td>...</td>\n",
              "      <td>...</td>\n",
              "      <td>...</td>\n",
              "      <td>...</td>\n",
              "      <td>...</td>\n",
              "      <td>...</td>\n",
              "      <td>...</td>\n",
              "      <td>...</td>\n",
              "      <td>...</td>\n",
              "      <td>...</td>\n",
              "      <td>...</td>\n",
              "      <td>...</td>\n",
              "    </tr>\n",
              "    <tr>\n",
              "      <th>11844</th>\n",
              "      <td>0</td>\n",
              "      <td>udp</td>\n",
              "      <td>domain_u</td>\n",
              "      <td>SF</td>\n",
              "      <td>43</td>\n",
              "      <td>43</td>\n",
              "      <td>0</td>\n",
              "      <td>0</td>\n",
              "      <td>0</td>\n",
              "      <td>0</td>\n",
              "      <td>...</td>\n",
              "      <td>1.00</td>\n",
              "      <td>0.00</td>\n",
              "      <td>0.01</td>\n",
              "      <td>0.00</td>\n",
              "      <td>0.00</td>\n",
              "      <td>0.00</td>\n",
              "      <td>0.00</td>\n",
              "      <td>0.00</td>\n",
              "      <td>normal</td>\n",
              "      <td>18</td>\n",
              "    </tr>\n",
              "    <tr>\n",
              "      <th>11845</th>\n",
              "      <td>0</td>\n",
              "      <td>tcp</td>\n",
              "      <td>http</td>\n",
              "      <td>SF</td>\n",
              "      <td>336</td>\n",
              "      <td>285</td>\n",
              "      <td>0</td>\n",
              "      <td>0</td>\n",
              "      <td>0</td>\n",
              "      <td>0</td>\n",
              "      <td>...</td>\n",
              "      <td>0.92</td>\n",
              "      <td>0.02</td>\n",
              "      <td>0.00</td>\n",
              "      <td>0.00</td>\n",
              "      <td>0.00</td>\n",
              "      <td>0.00</td>\n",
              "      <td>0.05</td>\n",
              "      <td>0.00</td>\n",
              "      <td>normal</td>\n",
              "      <td>18</td>\n",
              "    </tr>\n",
              "    <tr>\n",
              "      <th>11846</th>\n",
              "      <td>1</td>\n",
              "      <td>tcp</td>\n",
              "      <td>telnet</td>\n",
              "      <td>RSTO</td>\n",
              "      <td>0</td>\n",
              "      <td>15</td>\n",
              "      <td>0</td>\n",
              "      <td>0</td>\n",
              "      <td>0</td>\n",
              "      <td>0</td>\n",
              "      <td>...</td>\n",
              "      <td>0.37</td>\n",
              "      <td>0.03</td>\n",
              "      <td>0.01</td>\n",
              "      <td>0.02</td>\n",
              "      <td>0.05</td>\n",
              "      <td>0.08</td>\n",
              "      <td>0.85</td>\n",
              "      <td>0.58</td>\n",
              "      <td>mscan</td>\n",
              "      <td>13</td>\n",
              "    </tr>\n",
              "    <tr>\n",
              "      <th>11847</th>\n",
              "      <td>0</td>\n",
              "      <td>tcp</td>\n",
              "      <td>sunrpc</td>\n",
              "      <td>REJ</td>\n",
              "      <td>0</td>\n",
              "      <td>0</td>\n",
              "      <td>0</td>\n",
              "      <td>0</td>\n",
              "      <td>0</td>\n",
              "      <td>0</td>\n",
              "      <td>...</td>\n",
              "      <td>0.19</td>\n",
              "      <td>0.03</td>\n",
              "      <td>0.01</td>\n",
              "      <td>0.04</td>\n",
              "      <td>0.00</td>\n",
              "      <td>0.00</td>\n",
              "      <td>0.88</td>\n",
              "      <td>1.00</td>\n",
              "      <td>mscan</td>\n",
              "      <td>15</td>\n",
              "    </tr>\n",
              "    <tr>\n",
              "      <th>11848</th>\n",
              "      <td>0</td>\n",
              "      <td>udp</td>\n",
              "      <td>private</td>\n",
              "      <td>SF</td>\n",
              "      <td>41</td>\n",
              "      <td>0</td>\n",
              "      <td>0</td>\n",
              "      <td>0</td>\n",
              "      <td>0</td>\n",
              "      <td>0</td>\n",
              "      <td>...</td>\n",
              "      <td>1.00</td>\n",
              "      <td>0.00</td>\n",
              "      <td>0.00</td>\n",
              "      <td>0.00</td>\n",
              "      <td>0.00</td>\n",
              "      <td>0.00</td>\n",
              "      <td>0.00</td>\n",
              "      <td>0.00</td>\n",
              "      <td>snmpguess</td>\n",
              "      <td>17</td>\n",
              "    </tr>\n",
              "  </tbody>\n",
              "</table>\n",
              "<p>11849 rows × 43 columns</p>\n",
              "</div>\n",
              "    <div class=\"colab-df-buttons\">\n",
              "\n",
              "  <div class=\"colab-df-container\">\n",
              "    <button class=\"colab-df-convert\" onclick=\"convertToInteractive('df-a945b84b-3675-45ba-b909-15b1706373d2')\"\n",
              "            title=\"Convert this dataframe to an interactive table.\"\n",
              "            style=\"display:none;\">\n",
              "\n",
              "  <svg xmlns=\"http://www.w3.org/2000/svg\" height=\"24px\" viewBox=\"0 -960 960 960\">\n",
              "    <path d=\"M120-120v-720h720v720H120Zm60-500h600v-160H180v160Zm220 220h160v-160H400v160Zm0 220h160v-160H400v160ZM180-400h160v-160H180v160Zm440 0h160v-160H620v160ZM180-180h160v-160H180v160Zm440 0h160v-160H620v160Z\"/>\n",
              "  </svg>\n",
              "    </button>\n",
              "\n",
              "  <style>\n",
              "    .colab-df-container {\n",
              "      display:flex;\n",
              "      gap: 12px;\n",
              "    }\n",
              "\n",
              "    .colab-df-convert {\n",
              "      background-color: #E8F0FE;\n",
              "      border: none;\n",
              "      border-radius: 50%;\n",
              "      cursor: pointer;\n",
              "      display: none;\n",
              "      fill: #1967D2;\n",
              "      height: 32px;\n",
              "      padding: 0 0 0 0;\n",
              "      width: 32px;\n",
              "    }\n",
              "\n",
              "    .colab-df-convert:hover {\n",
              "      background-color: #E2EBFA;\n",
              "      box-shadow: 0px 1px 2px rgba(60, 64, 67, 0.3), 0px 1px 3px 1px rgba(60, 64, 67, 0.15);\n",
              "      fill: #174EA6;\n",
              "    }\n",
              "\n",
              "    .colab-df-buttons div {\n",
              "      margin-bottom: 4px;\n",
              "    }\n",
              "\n",
              "    [theme=dark] .colab-df-convert {\n",
              "      background-color: #3B4455;\n",
              "      fill: #D2E3FC;\n",
              "    }\n",
              "\n",
              "    [theme=dark] .colab-df-convert:hover {\n",
              "      background-color: #434B5C;\n",
              "      box-shadow: 0px 1px 3px 1px rgba(0, 0, 0, 0.15);\n",
              "      filter: drop-shadow(0px 1px 2px rgba(0, 0, 0, 0.3));\n",
              "      fill: #FFFFFF;\n",
              "    }\n",
              "  </style>\n",
              "\n",
              "    <script>\n",
              "      const buttonEl =\n",
              "        document.querySelector('#df-a945b84b-3675-45ba-b909-15b1706373d2 button.colab-df-convert');\n",
              "      buttonEl.style.display =\n",
              "        google.colab.kernel.accessAllowed ? 'block' : 'none';\n",
              "\n",
              "      async function convertToInteractive(key) {\n",
              "        const element = document.querySelector('#df-a945b84b-3675-45ba-b909-15b1706373d2');\n",
              "        const dataTable =\n",
              "          await google.colab.kernel.invokeFunction('convertToInteractive',\n",
              "                                                    [key], {});\n",
              "        if (!dataTable) return;\n",
              "\n",
              "        const docLinkHtml = 'Like what you see? Visit the ' +\n",
              "          '<a target=\"_blank\" href=https://colab.research.google.com/notebooks/data_table.ipynb>data table notebook</a>'\n",
              "          + ' to learn more about interactive tables.';\n",
              "        element.innerHTML = '';\n",
              "        dataTable['output_type'] = 'display_data';\n",
              "        await google.colab.output.renderOutput(dataTable, element);\n",
              "        const docLink = document.createElement('div');\n",
              "        docLink.innerHTML = docLinkHtml;\n",
              "        element.appendChild(docLink);\n",
              "      }\n",
              "    </script>\n",
              "  </div>\n",
              "\n",
              "\n",
              "<div id=\"df-91fd16fd-6a29-4d36-bd59-120f7e2e82fd\">\n",
              "  <button class=\"colab-df-quickchart\" onclick=\"quickchart('df-91fd16fd-6a29-4d36-bd59-120f7e2e82fd')\"\n",
              "            title=\"Suggest charts\"\n",
              "            style=\"display:none;\">\n",
              "\n",
              "<svg xmlns=\"http://www.w3.org/2000/svg\" height=\"24px\"viewBox=\"0 0 24 24\"\n",
              "     width=\"24px\">\n",
              "    <g>\n",
              "        <path d=\"M19 3H5c-1.1 0-2 .9-2 2v14c0 1.1.9 2 2 2h14c1.1 0 2-.9 2-2V5c0-1.1-.9-2-2-2zM9 17H7v-7h2v7zm4 0h-2V7h2v10zm4 0h-2v-4h2v4z\"/>\n",
              "    </g>\n",
              "</svg>\n",
              "  </button>\n",
              "\n",
              "<style>\n",
              "  .colab-df-quickchart {\n",
              "      --bg-color: #E8F0FE;\n",
              "      --fill-color: #1967D2;\n",
              "      --hover-bg-color: #E2EBFA;\n",
              "      --hover-fill-color: #174EA6;\n",
              "      --disabled-fill-color: #AAA;\n",
              "      --disabled-bg-color: #DDD;\n",
              "  }\n",
              "\n",
              "  [theme=dark] .colab-df-quickchart {\n",
              "      --bg-color: #3B4455;\n",
              "      --fill-color: #D2E3FC;\n",
              "      --hover-bg-color: #434B5C;\n",
              "      --hover-fill-color: #FFFFFF;\n",
              "      --disabled-bg-color: #3B4455;\n",
              "      --disabled-fill-color: #666;\n",
              "  }\n",
              "\n",
              "  .colab-df-quickchart {\n",
              "    background-color: var(--bg-color);\n",
              "    border: none;\n",
              "    border-radius: 50%;\n",
              "    cursor: pointer;\n",
              "    display: none;\n",
              "    fill: var(--fill-color);\n",
              "    height: 32px;\n",
              "    padding: 0;\n",
              "    width: 32px;\n",
              "  }\n",
              "\n",
              "  .colab-df-quickchart:hover {\n",
              "    background-color: var(--hover-bg-color);\n",
              "    box-shadow: 0 1px 2px rgba(60, 64, 67, 0.3), 0 1px 3px 1px rgba(60, 64, 67, 0.15);\n",
              "    fill: var(--button-hover-fill-color);\n",
              "  }\n",
              "\n",
              "  .colab-df-quickchart-complete:disabled,\n",
              "  .colab-df-quickchart-complete:disabled:hover {\n",
              "    background-color: var(--disabled-bg-color);\n",
              "    fill: var(--disabled-fill-color);\n",
              "    box-shadow: none;\n",
              "  }\n",
              "\n",
              "  .colab-df-spinner {\n",
              "    border: 2px solid var(--fill-color);\n",
              "    border-color: transparent;\n",
              "    border-bottom-color: var(--fill-color);\n",
              "    animation:\n",
              "      spin 1s steps(1) infinite;\n",
              "  }\n",
              "\n",
              "  @keyframes spin {\n",
              "    0% {\n",
              "      border-color: transparent;\n",
              "      border-bottom-color: var(--fill-color);\n",
              "      border-left-color: var(--fill-color);\n",
              "    }\n",
              "    20% {\n",
              "      border-color: transparent;\n",
              "      border-left-color: var(--fill-color);\n",
              "      border-top-color: var(--fill-color);\n",
              "    }\n",
              "    30% {\n",
              "      border-color: transparent;\n",
              "      border-left-color: var(--fill-color);\n",
              "      border-top-color: var(--fill-color);\n",
              "      border-right-color: var(--fill-color);\n",
              "    }\n",
              "    40% {\n",
              "      border-color: transparent;\n",
              "      border-right-color: var(--fill-color);\n",
              "      border-top-color: var(--fill-color);\n",
              "    }\n",
              "    60% {\n",
              "      border-color: transparent;\n",
              "      border-right-color: var(--fill-color);\n",
              "    }\n",
              "    80% {\n",
              "      border-color: transparent;\n",
              "      border-right-color: var(--fill-color);\n",
              "      border-bottom-color: var(--fill-color);\n",
              "    }\n",
              "    90% {\n",
              "      border-color: transparent;\n",
              "      border-bottom-color: var(--fill-color);\n",
              "    }\n",
              "  }\n",
              "</style>\n",
              "\n",
              "  <script>\n",
              "    async function quickchart(key) {\n",
              "      const quickchartButtonEl =\n",
              "        document.querySelector('#' + key + ' button');\n",
              "      quickchartButtonEl.disabled = true;  // To prevent multiple clicks.\n",
              "      quickchartButtonEl.classList.add('colab-df-spinner');\n",
              "      try {\n",
              "        const charts = await google.colab.kernel.invokeFunction(\n",
              "            'suggestCharts', [key], {});\n",
              "      } catch (error) {\n",
              "        console.error('Error during call to suggestCharts:', error);\n",
              "      }\n",
              "      quickchartButtonEl.classList.remove('colab-df-spinner');\n",
              "      quickchartButtonEl.classList.add('colab-df-quickchart-complete');\n",
              "    }\n",
              "    (() => {\n",
              "      let quickchartButtonEl =\n",
              "        document.querySelector('#df-91fd16fd-6a29-4d36-bd59-120f7e2e82fd button');\n",
              "      quickchartButtonEl.style.display =\n",
              "        google.colab.kernel.accessAllowed ? 'block' : 'none';\n",
              "    })();\n",
              "  </script>\n",
              "</div>\n",
              "\n",
              "  <div id=\"id_56a15598-1f26-4bfd-9bb7-0e3794975a2f\">\n",
              "    <style>\n",
              "      .colab-df-generate {\n",
              "        background-color: #E8F0FE;\n",
              "        border: none;\n",
              "        border-radius: 50%;\n",
              "        cursor: pointer;\n",
              "        display: none;\n",
              "        fill: #1967D2;\n",
              "        height: 32px;\n",
              "        padding: 0 0 0 0;\n",
              "        width: 32px;\n",
              "      }\n",
              "\n",
              "      .colab-df-generate:hover {\n",
              "        background-color: #E2EBFA;\n",
              "        box-shadow: 0px 1px 2px rgba(60, 64, 67, 0.3), 0px 1px 3px 1px rgba(60, 64, 67, 0.15);\n",
              "        fill: #174EA6;\n",
              "      }\n",
              "\n",
              "      [theme=dark] .colab-df-generate {\n",
              "        background-color: #3B4455;\n",
              "        fill: #D2E3FC;\n",
              "      }\n",
              "\n",
              "      [theme=dark] .colab-df-generate:hover {\n",
              "        background-color: #434B5C;\n",
              "        box-shadow: 0px 1px 3px 1px rgba(0, 0, 0, 0.15);\n",
              "        filter: drop-shadow(0px 1px 2px rgba(0, 0, 0, 0.3));\n",
              "        fill: #FFFFFF;\n",
              "      }\n",
              "    </style>\n",
              "    <button class=\"colab-df-generate\" onclick=\"generateWithVariable('df_test')\"\n",
              "            title=\"Generate code using this dataframe.\"\n",
              "            style=\"display:none;\">\n",
              "\n",
              "  <svg xmlns=\"http://www.w3.org/2000/svg\" height=\"24px\"viewBox=\"0 0 24 24\"\n",
              "       width=\"24px\">\n",
              "    <path d=\"M7,19H8.4L18.45,9,17,7.55,7,17.6ZM5,21V16.75L18.45,3.32a2,2,0,0,1,2.83,0l1.4,1.43a1.91,1.91,0,0,1,.58,1.4,1.91,1.91,0,0,1-.58,1.4L9.25,21ZM18.45,9,17,7.55Zm-12,3A5.31,5.31,0,0,0,4.9,8.1,5.31,5.31,0,0,0,1,6.5,5.31,5.31,0,0,0,4.9,4.9,5.31,5.31,0,0,0,6.5,1,5.31,5.31,0,0,0,8.1,4.9,5.31,5.31,0,0,0,12,6.5,5.46,5.46,0,0,0,6.5,12Z\"/>\n",
              "  </svg>\n",
              "    </button>\n",
              "    <script>\n",
              "      (() => {\n",
              "      const buttonEl =\n",
              "        document.querySelector('#id_56a15598-1f26-4bfd-9bb7-0e3794975a2f button.colab-df-generate');\n",
              "      buttonEl.style.display =\n",
              "        google.colab.kernel.accessAllowed ? 'block' : 'none';\n",
              "\n",
              "      buttonEl.onclick = () => {\n",
              "        google.colab.notebook.generateWithVariable('df_test');\n",
              "      }\n",
              "      })();\n",
              "    </script>\n",
              "  </div>\n",
              "\n",
              "    </div>\n",
              "  </div>\n"
            ],
            "application/vnd.google.colaboratory.intrinsic+json": {
              "type": "dataframe",
              "variable_name": "df_test"
            }
          },
          "metadata": {},
          "execution_count": 147
        }
      ]
    },
    {
      "cell_type": "code",
      "source": [
        "df_test = df_test.drop(['attack', 'level'], axis=1)\n",
        "loaded_model = pickle.load(open(filename, 'rb'))\n"
      ],
      "metadata": {
        "id": "wfWJQwgjrmI6"
      },
      "execution_count": null,
      "outputs": []
    },
    {
      "cell_type": "code",
      "source": [
        "def intrusion_check(packet):\n",
        "    packet[1] = le_protocol_type.transform([packet[1]])[0]\n",
        "    packet[2] = le_service.transform([packet[2]])[0]\n",
        "    packet[3] = le_flag.transform([packet[3]])[0]\n",
        "    pred = loaded_model.predict(np.reshape(packet, (1, 41)))\n",
        "    predicted = le_attack.inverse_transform(pred)\n",
        "\n",
        "    return predicted[0]"
      ],
      "metadata": {
        "id": "0Emy5k-Prmop"
      },
      "execution_count": null,
      "outputs": []
    },
    {
      "cell_type": "code",
      "source": [
        "from scapy.all import *\n",
        "def capture_packet(count):\n",
        "    filtered_packets = []\n",
        "\n",
        "    def handle_sniffed_packet(packet):\n",
        "        num = random.randint(0, 11849)\n",
        "        check = intrusion_check(list(df_test.iloc[num]))\n",
        "        if check == 'normal':\n",
        "            filtered_packets.append(packet)\n",
        "            print(f'Packet Safe, From [{packet.src}] To [{packet.dst}]')\n",
        "        else:\n",
        "            print(f'Caution! Found {check}, From [{packet.src}] To [{packet.dst}]')\n",
        "\n",
        "    # Start capturing packets using sniff\n",
        "    process_packet(packet)\n",
        "\n",
        "    return filtered_packets\n",
        "\n"
      ],
      "metadata": {
        "id": "6q-1aPQJrmkN"
      },
      "execution_count": null,
      "outputs": []
    },
    {
      "cell_type": "code",
      "source": [
        "from scapy.all import *\n",
        "def process_packet(packet):\n",
        "    data = \"\"\n",
        "\n",
        "    if IP in packet:\n",
        "        src_ip = packet[IP].src\n",
        "        dst_ip = packet[IP].dst\n",
        "\n",
        "        # Определяем количество байт в каждом направлении\n",
        "        if TCP in packet:\n",
        "            bytes_sent = len(packet[TCP].payload)\n",
        "            bytes_received = packet[IP].len - bytes_sent\n",
        "            proto = \"tcp\"\n",
        "        elif UDP in packet:\n",
        "            bytes_sent = len(packet[UDP].payload)\n",
        "            bytes_received = packet[IP].len - bytes_sent\n",
        "            proto = \"udp\"\n",
        "        elif ICMP in packet:\n",
        "            bytes_sent = len(packet[ICMP].payload)\n",
        "            bytes_received = packet[IP].len - bytes_sent\n",
        "            proto = \"icmp\"\n",
        "        else:\n",
        "            bytes_sent = 0\n",
        "            bytes_received = 0\n",
        "            proto = \"other\"\n",
        "\n",
        "        # Определяем специфичные протоколы\n",
        "        if proto == \"tcp\":\n",
        "            if packet[TCP].dport == 22:\n",
        "                proto = \"ssh\"\n",
        "            elif packet[TCP].dport == 23:\n",
        "                proto = \"telnet\"\n",
        "            elif packet[TCP].dport == 25:\n",
        "                proto = \"smtp\"\n",
        "            elif packet[TCP].dport == 110:\n",
        "                proto = \"pop3\"\n",
        "        elif proto == \"udp\":\n",
        "            if packet[UDP].dport == 67 or packet[UDP].dport == 68:\n",
        "                proto = \"dhcp\"\n",
        "            # Добавьте другие протоколы, если необходимо\n",
        "\n",
        "        data += f\"0,{proto},\"  # Добавляем IP протокол и нулевое значение для первого элемента\n",
        "        data += f\"{src_ip},{dst_ip},\"     # Добавляем IP адреса отправителя и получателя\n",
        "        data += f\"{bytes_sent},{bytes_received},\"  # Добавляем количество байт в каждом направлении\n",
        "\n",
        "        # Добавляем остальные параметры\n",
        "        data += \",\".join(map(str, packet[IP].payload.fields.values()))\n",
        "\n",
        "        print(data)\n",
        "\n",
        "# Захватываем и обрабатываем сетевой трафик\n",
        "        sniff(prn=process_packet, store=0)  # store=0 для обработки пакетов в реальном времени\n"
      ],
      "metadata": {
        "id": "XGPZ--fR9401"
      },
      "execution_count": null,
      "outputs": []
    },
    {
      "cell_type": "code",
      "source": [
        "packets = capture_packet(20)"
      ],
      "metadata": {
        "id": "I5KZya3g_Cra"
      },
      "execution_count": null,
      "outputs": []
    },
    {
      "cell_type": "markdown",
      "metadata": {
        "id": "gFDoWDcz9Jg5"
      },
      "source": [
        "###Ниже код который нужно будет делать самому и под себя"
      ]
    },
    {
      "cell_type": "code",
      "execution_count": null,
      "metadata": {
        "id": "2VplE00Ic7fs"
      },
      "outputs": [],
      "source": [
        "#преобразовываем данные в читабельном виде для нс\n",
        "#protocol_type, service, flag,\n"
      ]
    },
    {
      "cell_type": "code",
      "execution_count": null,
      "metadata": {
        "id": "DhGkCgNjU7W_"
      },
      "outputs": [],
      "source": [
        "#url = '/content/KDDTrain+.txt'\n",
        "#df = pd.read_csv(\"/content/KDDTrain+.txt\")\n",
        "#df.to_csv('KDDTrain+.txt', index=False)\n",
        "#df.info()"
      ]
    },
    {
      "cell_type": "code",
      "execution_count": null,
      "metadata": {
        "id": "YniAeAe5C5cf",
        "colab": {
          "base_uri": "https://localhost:8080/"
        },
        "outputId": "c67d4eb3-1731-48d3-d5de-8483730cde2d"
      },
      "outputs": [
        {
          "output_type": "error",
          "ename": "AttributeError",
          "evalue": "'DataFrame' object has no attribute 'Label'",
          "traceback": [
            "\u001b[0;31m---------------------------------------------------------------------------\u001b[0m",
            "\u001b[0;31mAttributeError\u001b[0m                            Traceback (most recent call last)",
            "\u001b[0;32m<ipython-input-24-ef5b68a58449>\u001b[0m in \u001b[0;36m<cell line: 9>\u001b[0;34m()\u001b[0m\n\u001b[1;32m      7\u001b[0m     \u001b[0mdf\u001b[0m\u001b[0;34m.\u001b[0m\u001b[0mattack\u001b[0m\u001b[0;34m.\u001b[0m\u001b[0mreplace\u001b[0m\u001b[0;34m(\u001b[0m\u001b[0;34m[\u001b[0m\u001b[0;34m'buffer_overflow'\u001b[0m\u001b[0;34m,\u001b[0m\u001b[0;34m'loadmodule'\u001b[0m\u001b[0;34m,\u001b[0m\u001b[0;34m'perl'\u001b[0m\u001b[0;34m,\u001b[0m\u001b[0;34m'ps'\u001b[0m\u001b[0;34m,\u001b[0m\u001b[0;34m'rootkit'\u001b[0m\u001b[0;34m,\u001b[0m\u001b[0;34m'sqlattack'\u001b[0m\u001b[0;34m,\u001b[0m\u001b[0;34m'xterm'\u001b[0m\u001b[0;34m]\u001b[0m\u001b[0;34m,\u001b[0m\u001b[0;34m'U2R'\u001b[0m\u001b[0;34m,\u001b[0m\u001b[0minplace\u001b[0m\u001b[0;34m=\u001b[0m\u001b[0;32mTrue\u001b[0m\u001b[0;34m)\u001b[0m\u001b[0;34m\u001b[0m\u001b[0;34m\u001b[0m\u001b[0m\n\u001b[1;32m      8\u001b[0m \u001b[0;34m\u001b[0m\u001b[0m\n\u001b[0;32m----> 9\u001b[0;31m \u001b[0mdf\u001b[0m\u001b[0;34m.\u001b[0m\u001b[0mLabel\u001b[0m\u001b[0;34m.\u001b[0m\u001b[0mvalue_counts\u001b[0m\u001b[0;34m(\u001b[0m\u001b[0;34m)\u001b[0m\u001b[0;34m\u001b[0m\u001b[0;34m\u001b[0m\u001b[0m\n\u001b[0m\u001b[1;32m     10\u001b[0m \u001b[0;34m\u001b[0m\u001b[0m\n\u001b[1;32m     11\u001b[0m \u001b[0;34m\u001b[0m\u001b[0m\n",
            "\u001b[0;32m/usr/local/lib/python3.10/dist-packages/pandas/core/generic.py\u001b[0m in \u001b[0;36m__getattr__\u001b[0;34m(self, name)\u001b[0m\n\u001b[1;32m   5900\u001b[0m         ):\n\u001b[1;32m   5901\u001b[0m             \u001b[0;32mreturn\u001b[0m \u001b[0mself\u001b[0m\u001b[0;34m[\u001b[0m\u001b[0mname\u001b[0m\u001b[0;34m]\u001b[0m\u001b[0;34m\u001b[0m\u001b[0;34m\u001b[0m\u001b[0m\n\u001b[0;32m-> 5902\u001b[0;31m         \u001b[0;32mreturn\u001b[0m \u001b[0mobject\u001b[0m\u001b[0;34m.\u001b[0m\u001b[0m__getattribute__\u001b[0m\u001b[0;34m(\u001b[0m\u001b[0mself\u001b[0m\u001b[0;34m,\u001b[0m \u001b[0mname\u001b[0m\u001b[0;34m)\u001b[0m\u001b[0;34m\u001b[0m\u001b[0;34m\u001b[0m\u001b[0m\n\u001b[0m\u001b[1;32m   5903\u001b[0m \u001b[0;34m\u001b[0m\u001b[0m\n\u001b[1;32m   5904\u001b[0m     \u001b[0;32mdef\u001b[0m \u001b[0m__setattr__\u001b[0m\u001b[0;34m(\u001b[0m\u001b[0mself\u001b[0m\u001b[0;34m,\u001b[0m \u001b[0mname\u001b[0m\u001b[0;34m:\u001b[0m \u001b[0mstr\u001b[0m\u001b[0;34m,\u001b[0m \u001b[0mvalue\u001b[0m\u001b[0;34m)\u001b[0m \u001b[0;34m->\u001b[0m \u001b[0;32mNone\u001b[0m\u001b[0;34m:\u001b[0m\u001b[0;34m\u001b[0m\u001b[0;34m\u001b[0m\u001b[0m\n",
            "\u001b[0;31mAttributeError\u001b[0m: 'DataFrame' object has no attribute 'Label'"
          ]
        }
      ],
      "source": [
        "df['attack'].unique()\n",
        "# changing attack labels to their respective attack class\n",
        "def change_label_attack(df):\n",
        "    df.attack.replace(['apache2','back','land','neptune','mailbomb','pod','processtable','smurf','teardrop','udpstorm','worm'],'Dos',inplace=True)\n",
        "    df.attack.replace(['ftp_write','guess_passwd','httptunnel','imap','multihop','named','phf','sendmail','snmpgetattack','snmpguess','spy','warezclient','warezmaster','xlock','xsnoop'],'R2L',inplace=True)\n",
        "    df.attack.replace(['ipsweep','mscan','nmap','portsweep','saint','satan'],'Probe',inplace=True)\n",
        "    df.attack.replace(['buffer_overflow','loadmodule','perl','ps','rootkit','sqlattack','xterm'],'U2R',inplace=True)\n",
        "\n",
        "df.Label.value_counts()\n",
        "\n",
        "\n",
        "change_lable_proto(df)\n",
        "df.head()"
      ]
    },
    {
      "cell_type": "markdown",
      "metadata": {
        "id": "yJxk7Y217T0N"
      },
      "source": [
        "Эксперименты c графиками"
      ]
    },
    {
      "cell_type": "code",
      "execution_count": null,
      "metadata": {
        "id": "z_dGeCvT7UHx"
      },
      "outputs": [],
      "source": [
        "import numpy as np\n",
        "import pandas as pd\n",
        "import matplotlib.pyplot as plt"
      ]
    },
    {
      "cell_type": "code",
      "execution_count": null,
      "metadata": {
        "id": "X3PX17IC9t-t"
      },
      "outputs": [],
      "source": [
        "plt.plot(df['protocol_type'], df['attack'], '+')\n",
        "plt.xlabel('105')\n",
        "plt.ylabel('normal.')\n",
        "plt.title('Plot of signal distribution over time')\n",
        "plt.grid(True)"
      ]
    },
    {
      "cell_type": "code",
      "execution_count": null,
      "metadata": {
        "id": "60BuHvCqAvwE"
      },
      "outputs": [],
      "source": [
        "plt.subplot(121)\n",
        "plt.plot(df['No.'], df['Length'], 'o')\n",
        "plt.grid(True)\n",
        "\n",
        "plt.subplot(122)\n",
        "plt.plot(df.head(100)['No.'], df.head(100)['Protocol'])\n",
        "plt.grid(True)\n",
        "plt.show()"
      ]
    },
    {
      "cell_type": "markdown",
      "metadata": {
        "id": "hhzXOQ_8oB-Y"
      },
      "source": [
        "Source\tDestination\tProtocol Length"
      ]
    }
  ],
  "metadata": {
    "colab": {
      "provenance": [],
      "collapsed_sections": [
        "yxlKOriTDTY8",
        "m6jbIiKkE0oh",
        "d3iBGt8AEPe6",
        "IofDIwzMEXJB",
        "7YXQAiiKEeYu",
        "uq4k9U1MEiQG",
        "sXi4B726Emq8",
        "fmLBMhDJE-Wr",
        "gFDoWDcz9Jg5"
      ],
      "authorship_tag": "ABX9TyPfEyw8kUx7cFGNUYU3GVUn",
      "include_colab_link": true
    },
    "kernelspec": {
      "display_name": "Python 3",
      "name": "python3"
    },
    "language_info": {
      "name": "python"
    }
  },
  "nbformat": 4,
  "nbformat_minor": 0
}