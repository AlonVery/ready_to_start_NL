{
  "cells": [
    {
      "cell_type": "markdown",
      "metadata": {
        "id": "view-in-github",
        "colab_type": "text"
      },
      "source": [
        "<a href=\"https://colab.research.google.com/github/stepka123/ready_to_start_NL/blob/main/NL_tree_Ensemble.ipynb\" target=\"_parent\"><img src=\"https://colab.research.google.com/assets/colab-badge.svg\" alt=\"Open In Colab\"/></a>"
      ]
    },
    {
      "cell_type": "markdown",
      "metadata": {
        "id": "IrBWI1-46k0r"
      },
      "source": [
        "Выводит данные датасета .csv на pandas. Исходник автора kagle: https://www.kaggle.com/code/pakinkitti/network-intrusion-detection#Import-Libraries"
      ]
    },
    {
      "cell_type": "code",
      "execution_count": null,
      "metadata": {
        "id": "qhtazJgCRWPX"
      },
      "outputs": [],
      "source": [
        "import numpy as np\n",
        "import pandas as pd\n",
        "import tensorflow as tf\n",
        "import matplotlib.pyplot as plt\n",
        "from tensorflow import keras\n",
        "from tensorflow.keras.layers import Dense\n",
        "from sklearn.preprocessing import OneHotEncoder\n",
        "from sklearn.compose import ColumnTransformer\n",
        "from sklearn.pipeline import Pipeline\n",
        "from sklearn.ensemble import IsolationForest\n",
        "from sklearn.preprocessing import FunctionTransformer\n",
        "import numpy as np\n",
        "from sklearn.cluster import KMeans\n",
        "from sklearn.preprocessing import LabelEncoder\n",
        "from sklearn.model_selection import train_test_split\n",
        "from keras.utils import to_categorical\n",
        "from tensorflow.keras.models import Sequential\n",
        "from tensorflow.keras.layers import Dense\n",
        "from tensorflow.keras.callbacks import LearningRateScheduler\n",
        "import tensorflow as tf\n",
        "from tensorflow.keras import Sequential\n",
        "from tensorflow.keras.layers import Dense\n",
        "from tensorflow.keras.optimizers import Adam\n",
        "from tensorflow.keras.losses import BinaryCrossentropy\n",
        "from tensorflow.keras.metrics import Accuracy\n",
        "from tensorflow.keras.callbacks import LearningRateScheduler\n",
        "import numpy as np\n",
        "from tensorflow.keras.models import Sequential\n",
        "from tensorflow.keras.layers import Dense\n",
        "from tensorflow.keras.losses import BinaryCrossentropy\n",
        "from tensorflow.keras.optimizers import Adam\n",
        "from tensorflow.keras.callbacks import LearningRateScheduler\n",
        "import seaborn as sns\n",
        "from sklearn.preprocessing import LabelEncoder"
      ]
    },
    {
      "cell_type": "code",
      "execution_count": null,
      "metadata": {
        "id": "J5WD3-BwtVPP"
      },
      "outputs": [],
      "source": [
        "# вытаскиваем тренировачный датасет и разбиваем каждую колонку на нужный нам параметр всего 43\n",
        "#выделяем каждый датасет отдельно на тест и на треин\n",
        "#df.head() #df.info() #df['protocol_type'].unique()\n",
        "#data = df.drop('attack', axis=1)\n",
        "#df.head()\n",
        "\n",
        "columns = (['duration'\n",
        ",'protocol_type'\n",
        ",'service'\n",
        ",'flag'\n",
        ",'src_bytes'\n",
        ",'dst_bytes'\n",
        ",'land'\n",
        ",'wrong_fragment'\n",
        ",'urgent'\n",
        ",'hot'\n",
        ",'num_failed_logins'\n",
        ",'logged_in'\n",
        ",'num_compromised'\n",
        ",'root_shell'\n",
        ",'su_attempted'\n",
        ",'num_root'\n",
        ",'num_file_creations'\n",
        ",'num_shells'\n",
        ",'num_access_files'\n",
        ",'num_outbound_cmds'\n",
        ",'is_host_login'\n",
        ",'is_guest_login'\n",
        ",'count'\n",
        ",'srv_count'\n",
        ",'serror_rate'\n",
        ",'srv_serror_rate'\n",
        ",'rerror_rate'\n",
        ",'srv_rerror_rate'\n",
        ",'same_srv_rate'\n",
        ",'diff_srv_rate'\n",
        ",'srv_diff_host_rate'\n",
        ",'dst_host_count'\n",
        ",'dst_host_srv_count'\n",
        ",'dst_host_same_srv_rate'\n",
        ",'dst_host_diff_srv_rate'\n",
        ",'dst_host_same_src_port_rate'\n",
        ",'dst_host_srv_diff_host_rate'\n",
        ",'dst_host_serror_rate'\n",
        ",'dst_host_srv_serror_rate'\n",
        ",'dst_host_rerror_rate'\n",
        ",'dst_host_srv_rerror_rate'\n",
        ",'attack'\n",
        ",'level'])\n",
        "\n",
        "df_train=pd.read_csv('/content/KDDTrain+.txt',header=None,names=columns)\n",
        "df_test=pd.read_csv('/content/KDDTest+.txt',header=None,names=columns)\n",
        "df = pd.concat([df_train, df_test])\n",
        "df_train.head()"
      ]
    },
    {
      "cell_type": "code",
      "execution_count": null,
      "metadata": {
        "id": "X0TlSMCSasUu"
      },
      "outputs": [],
      "source": [
        "#чистим будущие данные от NaN/ Null values\n",
        "\n",
        "def clean_dataset(df_test):\n",
        "    assert isinstance(df_test, pd.DataFrame), \"df_test needs to be a pd.DataFrame\"\n",
        "    df_test.dropna(inplace=True)\n",
        "    indices_to_keep = ~df_test.isin([np.nan, np.inf, -np.inf]).any(1)\n",
        "    return data_test[indices_to_keep]\n",
        "\n",
        "def clean_dataset(df_train):\n",
        "    assert isinstance(df_train, pd.DataFrame), \"df_train needs to be a pd.DataFrame\"\n",
        "    df_train.dropna(inplace=True)\n",
        "    indices_to_keep = ~df_train.isin([np.nan, np.inf, -np.inf]).any(1)\n",
        "    return df_train[indices_to_keep]\n"
      ]
    },
    {
      "cell_type": "code",
      "execution_count": null,
      "metadata": {
        "id": "J0SdmkfhzclB"
      },
      "outputs": [],
      "source": [
        "#Дропаем дубликаты\n",
        "df_dpl = df.duplicated().sum()\n",
        "print(\"Дубликаты: \",df_dpl)\n",
        "df.drop_duplicates(inplace=True)"
      ]
    },
    {
      "cell_type": "markdown",
      "metadata": {
        "id": "knULBEE1XGh-"
      },
      "source": [
        "#Здесь же код который я беру на тест с kagele\n",
        "Автоенкодер который будет оринтироваться по слассу атак, а именно разметит сам зависимости, разобьет эти зависимости на классы и будт обучатьс яуже относительно них.\n"
      ]
    },
    {
      "cell_type": "code",
      "execution_count": null,
      "metadata": {
        "id": "02sRhXiiTyDw"
      },
      "outputs": [],
      "source": [
        "# changing attack labels to their respective attack class\n",
        "def change_label(df):\n",
        "    df.attack.replace(['apache2','back','land','neptune','mailbomb','pod','processtable','smurf','teardrop','udpstorm','worm'],'Dos',inplace=True)\n",
        "    df.attack.replace(['ftp_write','guess_passwd','httptunnel','imap','multihop','named','phf','sendmail','snmpgetattack','snmpguess','spy','warezclient','warezmaster','xlock','xsnoop'],'R2L',inplace=True)\n",
        "    df.attack.replace(['ipsweep','mscan','nmap','portsweep','saint','satan'],'Probe',inplace=True)\n",
        "    df.attack.replace(['buffer_overflow','loadmodule','perl','ps','rootkit','sqlattack','xterm'],'U2R',inplace=True)\n",
        "\n"
      ]
    },
    {
      "cell_type": "code",
      "execution_count": null,
      "metadata": {
        "id": "_kLmRV6GT_CZ"
      },
      "outputs": [],
      "source": [
        "from sklearn.preprocessing import LabelEncoder\n",
        "le1 = LabelEncoder()\n",
        "le2 = LabelEncoder()\n",
        "le3 = LabelEncoder()\n",
        "le4 = LabelEncoder()\n",
        "\n",
        "le_protocol_type = le1.fit(df['protocol_type'])\n",
        "le_service = le2.fit(df['service'])\n",
        "le_flag = le3.fit(df['flag'])\n",
        "\n",
        "le_attack = le4.fit(df['attack'])\n",
        "df['protocol_type'] = le_protocol_type.transform(df['protocol_type'])\n",
        "df['service'] = le_service.transform(df['service'])\n",
        "df['flag'] = le_flag.transform(df['flag'])\n",
        "\n",
        "df['attack'] = le_attack.transform(df['attack'])"
      ]
    },
    {
      "cell_type": "code",
      "execution_count": null,
      "metadata": {
        "id": "K6977bgdUSyU"
      },
      "outputs": [],
      "source": [
        "from sklearn.model_selection import train_test_split\n",
        "y_train= df[['attack']]\n",
        "X_train= df.drop(labels=['attack'], axis=1)\n",
        "\n",
        "print('X_train has shape:',X_train.shape,'\\ny_train has shape:',y_train.shape)"
      ]
    },
    {
      "cell_type": "code",
      "execution_count": null,
      "metadata": {
        "id": "mEJBCcfgUbXN"
      },
      "outputs": [],
      "source": [
        "# splitting the dataset 80% for training and 20% testing\n",
        "X_train, X_test, y_train, y_test = train_test_split(X_train,y_train, test_size=0.20, random_state=42)"
      ]
    },
    {
      "cell_type": "code",
      "execution_count": null,
      "metadata": {
        "id": "h43d_s7LUnIg"
      },
      "outputs": [],
      "source": [
        "!pip install catboost\n"
      ]
    },
    {
      "cell_type": "code",
      "execution_count": null,
      "metadata": {
        "id": "YZpZ3ChGUb2A"
      },
      "outputs": [],
      "source": [
        "from sklearn.ensemble import RandomForestClassifier\n",
        "from sklearn.tree import DecisionTreeClassifier\n",
        "from catboost import CatBoostClassifier\n",
        "from sklearn.naive_bayes import GaussianNB\n",
        "from xgboost import XGBClassifier\n",
        "\n",
        "from sklearn.metrics import confusion_matrix, ConfusionMatrixDisplay, classification_report, accuracy_score"
      ]
    },
    {
      "cell_type": "code",
      "execution_count": null,
      "metadata": {
        "id": "8-LBNy_BUdfR"
      },
      "outputs": [],
      "source": [
        "target_names = ['normal', 'Dos', 'Probe', 'R2L', 'U2R']"
      ]
    },
    {
      "cell_type": "code",
      "execution_count": null,
      "metadata": {
        "id": "z3roYxzfUudC"
      },
      "outputs": [],
      "source": [
        "# Создание экземпляра классификатора наивного Байеса с гауссовскими признаками\n",
        "gnb = GaussianNB()\n",
        "\n",
        "# Обучение классификатора на обучающих данных\n",
        "gnb = gnb.fit(X_train, y_train)"
      ]
    },
    {
      "cell_type": "code",
      "execution_count": null,
      "metadata": {
        "id": "k-Elx9dfUwVM"
      },
      "outputs": [],
      "source": [
        "gnb_pred = gnb.predict(X_test)  # Предсказание меток классов на тестовом наборе\n",
        "gnb_pred\n",
        "gnb_acc = accuracy_score(y_test, gnb_pred)  # Вычисление точности предсказаний\n",
        "gnb_acc"
      ]
    },
    {
      "cell_type": "code",
      "execution_count": null,
      "metadata": {
        "id": "ikdmW41KU9VV"
      },
      "outputs": [],
      "source": [
        "dt = DecisionTreeClassifier()  # Создание модели дерева принятия решений\n",
        "dt = dt.fit(X_train, y_train)  # Обучение модели на обучающем наборе данных"
      ]
    },
    {
      "cell_type": "code",
      "execution_count": null,
      "metadata": {
        "id": "OPHaQRPzV6gF"
      },
      "outputs": [],
      "source": [
        "dt_pred = dt.predict(X_test)\n",
        "dt_pred"
      ]
    },
    {
      "cell_type": "code",
      "execution_count": null,
      "metadata": {
        "id": "y6yULAV6V6d0"
      },
      "outputs": [],
      "source": [
        "dt_acc = accuracy_score(y_test, dt_pred)\n",
        "dt_acc"
      ]
    },
    {
      "cell_type": "code",
      "execution_count": null,
      "metadata": {
        "id": "NtO3_gzkV59k"
      },
      "outputs": [],
      "source": [
        "rf = RandomForestClassifier()\n",
        "rf = rf.fit(X_train, y_train)"
      ]
    },
    {
      "cell_type": "code",
      "execution_count": null,
      "metadata": {
        "id": "riI6X0bsWcUq"
      },
      "outputs": [],
      "source": [
        "rf_pred = rf.predict(X_test)\n",
        "rf_pred\n"
      ]
    },
    {
      "cell_type": "code",
      "execution_count": null,
      "metadata": {
        "colab": {
          "base_uri": "https://localhost:8080/"
        },
        "id": "_hcC30AYWcR4",
        "outputId": "006634c1-6e55-4e81-de26-ff2c265176a3"
      },
      "outputs": [
        {
          "data": {
            "text/plain": [
              "0.9973632614427692"
            ]
          },
          "execution_count": 30,
          "metadata": {},
          "output_type": "execute_result"
        }
      ],
      "source": [
        "rf_acc = accuracy_score(y_test, rf_pred)\n",
        "rf_acc"
      ]
    },
    {
      "cell_type": "code",
      "execution_count": null,
      "metadata": {
        "colab": {
          "background_save": true
        },
        "id": "tEy7eStyWcPn"
      },
      "outputs": [],
      "source": [
        "cb = CatBoostClassifier()\n",
        "cb = cb.fit(X_train, y_train)"
      ]
    },
    {
      "cell_type": "markdown",
      "metadata": {
        "id": "gFDoWDcz9Jg5"
      },
      "source": [
        "###Ниже код который нужно будет делать самому и под себя"
      ]
    },
    {
      "cell_type": "code",
      "execution_count": 1,
      "metadata": {
        "id": "2VplE00Ic7fs"
      },
      "outputs": [],
      "source": [
        "#преобразовываем данные в читабельном виде для нс\n",
        "#protocol_type, service, flag,\n"
      ]
    },
    {
      "cell_type": "code",
      "execution_count": 2,
      "metadata": {
        "id": "DhGkCgNjU7W_"
      },
      "outputs": [],
      "source": [
        "#url = '/content/KDDTrain+.txt'\n",
        "#df = pd.read_csv(\"/content/KDDTrain+.txt\")\n",
        "#df.to_csv('KDDTrain+.txt', index=False)\n",
        "#df.info()"
      ]
    },
    {
      "cell_type": "code",
      "execution_count": null,
      "metadata": {
        "id": "YniAeAe5C5cf"
      },
      "outputs": [],
      "source": [
        "df['attack'].unique()\n",
        "# changing attack labels to their respective attack class\n",
        "def change_label_attack(df):\n",
        "    df.attack.replace(['apache2','back','land','neptune','mailbomb','pod','processtable','smurf','teardrop','udpstorm','worm'],'Dos',inplace=True)\n",
        "    df.attack.replace(['ftp_write','guess_passwd','httptunnel','imap','multihop','named','phf','sendmail','snmpgetattack','snmpguess','spy','warezclient','warezmaster','xlock','xsnoop'],'R2L',inplace=True)\n",
        "    df.attack.replace(['ipsweep','mscan','nmap','portsweep','saint','satan'],'Probe',inplace=True)\n",
        "    df.attack.replace(['buffer_overflow','loadmodule','perl','ps','rootkit','sqlattack','xterm'],'U2R',inplace=True)\n",
        "\n",
        "df.Label.value_counts()\n",
        "\n",
        "\n",
        "change_lable_proto(df)\n",
        "df.head()"
      ]
    },
    {
      "cell_type": "markdown",
      "metadata": {
        "id": "yJxk7Y217T0N"
      },
      "source": [
        "Эксперименты c графиками"
      ]
    },
    {
      "cell_type": "code",
      "execution_count": null,
      "metadata": {
        "id": "z_dGeCvT7UHx"
      },
      "outputs": [],
      "source": [
        "import numpy as np\n",
        "import pandas as pd\n",
        "import matplotlib.pyplot as plt"
      ]
    },
    {
      "cell_type": "code",
      "execution_count": null,
      "metadata": {
        "id": "X3PX17IC9t-t"
      },
      "outputs": [],
      "source": [
        "plt.plot(df['protocol_type'], df['attack'], '+')\n",
        "plt.xlabel('105')\n",
        "plt.ylabel('normal.')\n",
        "plt.title('Plot of signal distribution over time')\n",
        "plt.grid(True)"
      ]
    },
    {
      "cell_type": "code",
      "execution_count": null,
      "metadata": {
        "id": "60BuHvCqAvwE"
      },
      "outputs": [],
      "source": [
        "plt.subplot(121)\n",
        "plt.plot(df['No.'], df['Length'], 'o')\n",
        "plt.grid(True)\n",
        "\n",
        "plt.subplot(122)\n",
        "plt.plot(df.head(100)['No.'], df.head(100)['Protocol'])\n",
        "plt.grid(True)\n",
        "plt.show()"
      ]
    },
    {
      "cell_type": "markdown",
      "metadata": {
        "id": "hhzXOQ_8oB-Y"
      },
      "source": [
        "Source\tDestination\tProtocol Length"
      ]
    }
  ],
  "metadata": {
    "colab": {
      "provenance": [],
      "authorship_tag": "ABX9TyPvVYhhoTaR30UxzNXauGrc",
      "include_colab_link": true
    },
    "kernelspec": {
      "display_name": "Python 3",
      "name": "python3"
    },
    "language_info": {
      "name": "python"
    }
  },
  "nbformat": 4,
  "nbformat_minor": 0
}
